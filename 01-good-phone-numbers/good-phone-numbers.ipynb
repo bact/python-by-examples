{
 "cells": [
  {
   "cell_type": "markdown",
   "metadata": {
    "colab_type": "text",
    "id": "0EE2nQxBaj0Y"
   },
   "source": [
    "# หาเบอร์มงคล\n",
    "\n",
    "ลองเขียนโปรแกรมหาว่าหมายเลขโทรศัพท์ที่กำหนด เป็น \"เบอร์มงคล\" หรือไม่\n",
    "\n",
    "หมายเลขโทรศัพท์เป็นเลข 10 หลัก เขียนติดกันหมด เช่น \"0123456789\"\n",
    "\n",
    "เรามีกฎที่จะบอกว่า หมายเลขโทรศัพท์ไหนคือหมายเลขมงคล ดังนี้\n",
    "\n",
    "1.   ถ้ามีเลข 13 ในเบอร์ -> ถือว่าเป็น \"เบอร์ไม่มงคล\"\n",
    "2.   ถ้าเบอร์ลงท้ายด้วย 9 หรือ 5 -> ถือว่าเป็น \"เบอร์มงคล\"\n",
    "3.   ถ้าเลขทั้งหมดบวกกันได้ 12, 14, 15, 37, 42, หรือ 49 ถ้าว่าเป็น \"เบอร์มงคล\"\n",
    "4.   เบอร์ใดๆ ที่ไม่ใช่ \"\"เบอร์มงคล\"\" คือ \"เบอร์ไม่มงคล\"\n",
    "\n",
    "**กฎนี้เรียงลำดับตามความสำคัญ** - ตัวอย่างเช่นหมายเลข \"0148132495\" ถือว่าเป็น \"เบอร์ไม่มงคล\" เพราะแม้จะลงท้ายด้วย 5 (กฎข้อ 2) และผลรวมรวมกันได้ 37 (กฎข้อ 3) แต่มีเลข 13 อยู่ (กฏข้อ 1) ซึ่งกฎข้อ 1 ใหญ่กว่ากฎข้อ 2 และข้อ 3\n",
    "\n",
    "## สิ่งที่น่าจะได้จากตัวอย่างนี้\n",
    "* การแตกโจทย์ใหญ่ออกเป็นโจทย์ย่อย\n",
    "* ความแตกต่างระหว่าง \"ข้อความ\" (สายอักขระ/str) กับ จำนวน (int) ในการทำงาน\n",
    "* การนับ index ของสายอักขระ\n",
    "* การใช้ in เพื่อหา substring ใน string และหาสมาชิกใน list\n",
    "* การใช้ if-else เพื่อกำหนด flow ของโปรแกรม\n",
    "* การใช้ or เพื่อรวมเงื่อนไข\n",
    "* การใช้ for ... in ... เพื่อวนลูปทำงาน\n",
    "* การสร้างฟังก์ชัน การคืนค่าจากฟังก์ชัน และการเอาฟังก์ชันไปใช้ต่อ\n",
    "\n",
    "## Notes\n",
    "* ตัวอย่างนี้ใช้ระหว่างอบรมที่ Thoth Zocial OBVOC @ Space 48 เมื่อค่ำวันพุธที่ 27 มิ.ย. 2561\n",
    "* แรงบันดาลใจจากคลิปสอน Python ของ อ.ประเสริฐ คณาวัฒนไชย คณะพาณิชยศาสตร์และการบัญชี จุฬาลงกรณ์มหาวิทยาลัย https://youtu.be/OK5lP47wd3k \n",
    "* กฎที่ใช้ในตัวอย่างนี้ มั่วขึ้นมาหมด อย่าเอาไปใช้ในการซื้อเบอร์เด็ดขาด - -\"\n",
    "* ไม่ได้ส่งเสริมให้เชื่อเรื่องเลขมงคล แค่หาตัวอย่างสนุกๆ มาเฉยๆ\n"
   ]
  },
  {
   "cell_type": "code",
   "execution_count": 32,
   "metadata": {
    "colab": {
     "autoexec": {
      "startup": false,
      "wait_interval": 0
     },
     "base_uri": "https://localhost:8080/",
     "height": 35
    },
    "colab_type": "code",
    "executionInfo": {
     "elapsed": 802,
     "status": "ok",
     "timestamp": 1530260887094,
     "user": {
      "displayName": "Arthit Suriyawongkul",
      "photoUrl": "//lh4.googleusercontent.com/-mAKh3dZp8q4/AAAAAAAAAAI/AAAAAAABQUQ/C_YQUa0SdMo/s50-c-k-no/photo.jpg",
      "userId": "108240001393775873001"
     },
     "user_tz": -420
    },
    "id": "YQLALTHdsGqk",
    "outputId": "01e2fe4f-7ac8-42aa-dccd-762eb374573e"
   },
   "outputs": [
    {
     "data": {
      "text/plain": [
       "'03202351984'"
      ]
     },
     "execution_count": 32,
     "metadata": {
      "tags": []
     },
     "output_type": "execute_result"
    }
   ],
   "source": [
    "# เรามีหมายเลขโทรศัพท์ตามนี้\n",
    "# <---- ลองกด run ดู เอาเมาส์ไปวางตรงแถวๆ [ ] จะเห็นปุ่มสามเหลี่ยมในวงกลมอยู่\n",
    "\n",
    "phone_number = \"03202351984\"\n",
    "\n",
    "phone_number # ให้ Colab บอกหน่อยว่าตอนนี้ตัวแปร phone_number เก็บอะไรอยู่"
   ]
  },
  {
   "cell_type": "markdown",
   "metadata": {
    "colab_type": "text",
    "id": "6DlKy94He9nq"
   },
   "source": [
    "การแก้โจทย์ ให้พยายามแตกโจทย์ออกเป็นโจทย์ย่อยๆ\n",
    "* เช่น กรณีนี้ เรามีกฎอยู่ 4 ข้อ ก็ให้ลองทำทีละข้อก่อน\n",
    "* พอตรวจสอบได้ครบทุกข้อแล้ว ค่อยหาทางเอาทุกส่วนมาประกอบร่างกัน\n",
    "* กฎบางข้ออาจใหญ่ เราก็แตกมันลงไปอีก"
   ]
  },
  {
   "cell_type": "markdown",
   "metadata": {
    "colab_type": "text",
    "id": "6XQG1Wkjr-AS"
   },
   "source": [
    "# (กฎ 1) ถ้ามีเลข 13 ในเบอร์ -> ถือว่าไม่ใช่เบอร์มงคล"
   ]
  },
  {
   "cell_type": "code",
   "execution_count": 6,
   "metadata": {
    "colab": {
     "autoexec": {
      "startup": false,
      "wait_interval": 0
     },
     "base_uri": "https://localhost:8080/",
     "height": 35
    },
    "colab_type": "code",
    "executionInfo": {
     "elapsed": 942,
     "status": "ok",
     "timestamp": 1530258221530,
     "user": {
      "displayName": "Arthit Suriyawongkul",
      "photoUrl": "//lh4.googleusercontent.com/-mAKh3dZp8q4/AAAAAAAAAAI/AAAAAAABQUQ/C_YQUa0SdMo/s50-c-k-no/photo.jpg",
      "userId": "108240001393775873001"
     },
     "user_tz": -420
    },
    "id": "WIjkC1Pue8U2",
    "outputId": "eb813707-ce27-4fb0-fda2-f067e27fbdf8"
   },
   "outputs": [
    {
     "data": {
      "text/plain": [
       "False"
      ]
     },
     "execution_count": 6,
     "metadata": {
      "tags": []
     },
     "output_type": "execute_result"
    }
   ],
   "source": [
    "# ตรวจว่าเข้ากฎนี้ไหม\n",
    "# 1. ถ้ามีเลข 13 ในเบอร์ -> ถือว่าเป็น \"เบอร์ไม่มงคล\"\n",
    "\n",
    "# ใน Python เรามี operator \"in\" เพื่อหาว่ามีสมาชิกที่ระบุใน Sequence ที่กำหนดหรือไม่\n",
    "# Sequence มาตรฐานเช่น list, tuple, dict \n",
    "# สายอักขระ (string - ใน Python ย่อว่า str) ก็เป็น Sequence, ใช้ in ได้\n",
    "\n",
    "# มีเลข 13 ในเบอร์ไหม\n",
    "\"13\" in phone_number"
   ]
  },
  {
   "cell_type": "markdown",
   "metadata": {
    "colab_type": "text",
    "id": "mHejAgSUhWb9"
   },
   "source": [
    "ที่ต้องครอบ \"เครื่องหมายคำพูด\" ไว้รอบ 13 เพราะจริงๆ ตอนนี้เรากำลังทำงานกับข้อความอยู่ ไม่ใช่จำนวน"
   ]
  },
  {
   "cell_type": "code",
   "execution_count": 16,
   "metadata": {
    "colab": {
     "autoexec": {
      "startup": false,
      "wait_interval": 0
     },
     "base_uri": "https://localhost:8080/",
     "height": 35
    },
    "colab_type": "code",
    "executionInfo": {
     "elapsed": 704,
     "status": "ok",
     "timestamp": 1530258888650,
     "user": {
      "displayName": "Arthit Suriyawongkul",
      "photoUrl": "//lh4.googleusercontent.com/-mAKh3dZp8q4/AAAAAAAAAAI/AAAAAAABQUQ/C_YQUa0SdMo/s50-c-k-no/photo.jpg",
      "userId": "108240001393775873001"
     },
     "user_tz": -420
    },
    "id": "bAMZe6OsiL78",
    "outputId": "f70a512d-75aa-48ff-8f91-0dd59c6bdf50"
   },
   "outputs": [
    {
     "name": "stdout",
     "output_type": "stream",
     "text": [
      "อาจจะเป็นเบอร์มงคลหรือไม่มงคลก็ได้\n"
     ]
    }
   ],
   "source": [
    "# ถ้ามีเลข 13 ในเบอร์ -> ถือว่าเป็น \"เบอร์ไม่มงคล\"\n",
    "if \"13\" in phone_number:\n",
    "  print(\"เบอร์ไม่มงคล\")\n",
    "else:\n",
    "  print(\"อาจจะเป็นเบอร์มงคลหรือไม่มงคลก็ได้\")"
   ]
  },
  {
   "cell_type": "markdown",
   "metadata": {
    "colab_type": "text",
    "id": "LiwzOQ4psGkr"
   },
   "source": [
    "# (กฎ 2) ถ้าเบอร์ลงท้ายด้วย 9 หรือ 5 -> ถือว่าเป็น \"เบอร์มงคล\""
   ]
  },
  {
   "cell_type": "code",
   "execution_count": 17,
   "metadata": {
    "colab": {
     "autoexec": {
      "startup": false,
      "wait_interval": 0
     },
     "base_uri": "https://localhost:8080/",
     "height": 35
    },
    "colab_type": "code",
    "executionInfo": {
     "elapsed": 840,
     "status": "ok",
     "timestamp": 1530258912252,
     "user": {
      "displayName": "Arthit Suriyawongkul",
      "photoUrl": "//lh4.googleusercontent.com/-mAKh3dZp8q4/AAAAAAAAAAI/AAAAAAABQUQ/C_YQUa0SdMo/s50-c-k-no/photo.jpg",
      "userId": "108240001393775873001"
     },
     "user_tz": -420
    },
    "id": "tlQYpdiYf9H5",
    "outputId": "a09d6209-c084-4b4f-a586-3010cf5f9dc6"
   },
   "outputs": [
    {
     "data": {
      "text/plain": [
       "'4'"
      ]
     },
     "execution_count": 17,
     "metadata": {
      "tags": []
     },
     "output_type": "execute_result"
    }
   ],
   "source": [
    "# 2. ถ้าเบอร์ลงท้ายด้วย 9 หรือ 5 -> ถือว่าเป็น \"เบอร์มงคล\"\n",
    "\n",
    "# เราหาก่อน ว่าตอนนี้เบอร์ลงท้ายด้วยอะไร\n",
    "# index ของ str ใน Python นั้นนับได้ 2 ทิศ: ถ้าเป็นจำนวนบวกจะนับจากต้นสาย ถ้าเป็นจำนวนลบจะนับจากท้ายสาย\n",
    "# ถ้าเราจะหาตัวสุดท้าย index ก็คือ -1\n",
    "\n",
    "# เบอร์ลงท้าย\n",
    "phone_number[-1] "
   ]
  },
  {
   "cell_type": "code",
   "execution_count": 12,
   "metadata": {
    "colab": {
     "autoexec": {
      "startup": false,
      "wait_interval": 0
     },
     "base_uri": "https://localhost:8080/",
     "height": 35
    },
    "colab_type": "code",
    "executionInfo": {
     "elapsed": 670,
     "status": "ok",
     "timestamp": 1530258800141,
     "user": {
      "displayName": "Arthit Suriyawongkul",
      "photoUrl": "//lh4.googleusercontent.com/-mAKh3dZp8q4/AAAAAAAAAAI/AAAAAAABQUQ/C_YQUa0SdMo/s50-c-k-no/photo.jpg",
      "userId": "108240001393775873001"
     },
     "user_tz": -420
    },
    "id": "894b5MMHgrY9",
    "outputId": "9305e932-4051-439a-c05a-4effccdaf485"
   },
   "outputs": [
    {
     "data": {
      "text/plain": [
       "False"
      ]
     },
     "execution_count": 12,
     "metadata": {
      "tags": []
     },
     "output_type": "execute_result"
    }
   ],
   "source": [
    "# ได้เลขมาแล้ว ก็เอามาเปรียบเทียบว่าตรงกับเลขที่ต้องการไหม\n",
    "# โดยใช้ operator == (equals)\n",
    "# (ถ้าเครื่องหมายเท่ากับตัวเดียว = จะเป็นการกำหนดค่า (assignment) ถ้าจะเปรียบเทียบต้องใช้สองตัว == (equals))\n",
    "\n",
    "# ถ้าเบอร์ลงท้ายด้วย 9\n",
    "phone_number[-1] == '9'"
   ]
  },
  {
   "cell_type": "code",
   "execution_count": 13,
   "metadata": {
    "colab": {
     "autoexec": {
      "startup": false,
      "wait_interval": 0
     },
     "base_uri": "https://localhost:8080/",
     "height": 35
    },
    "colab_type": "code",
    "executionInfo": {
     "elapsed": 689,
     "status": "ok",
     "timestamp": 1530258802735,
     "user": {
      "displayName": "Arthit Suriyawongkul",
      "photoUrl": "//lh4.googleusercontent.com/-mAKh3dZp8q4/AAAAAAAAAAI/AAAAAAABQUQ/C_YQUa0SdMo/s50-c-k-no/photo.jpg",
      "userId": "108240001393775873001"
     },
     "user_tz": -420
    },
    "id": "C-90e6ABg7Z4",
    "outputId": "651ca316-0a45-4b4e-ba52-8d4d3b594695"
   },
   "outputs": [
    {
     "data": {
      "text/plain": [
       "False"
      ]
     },
     "execution_count": 13,
     "metadata": {
      "tags": []
     },
     "output_type": "execute_result"
    }
   ],
   "source": [
    "# ถ้าเบอร์ลงท้ายด้วย 5\n",
    "phone_number[-1] == '5'"
   ]
  },
  {
   "cell_type": "code",
   "execution_count": 14,
   "metadata": {
    "colab": {
     "autoexec": {
      "startup": false,
      "wait_interval": 0
     },
     "base_uri": "https://localhost:8080/",
     "height": 35
    },
    "colab_type": "code",
    "executionInfo": {
     "elapsed": 728,
     "status": "ok",
     "timestamp": 1530258804278,
     "user": {
      "displayName": "Arthit Suriyawongkul",
      "photoUrl": "//lh4.googleusercontent.com/-mAKh3dZp8q4/AAAAAAAAAAI/AAAAAAABQUQ/C_YQUa0SdMo/s50-c-k-no/photo.jpg",
      "userId": "108240001393775873001"
     },
     "user_tz": -420
    },
    "id": "MX6GdZPThfVu",
    "outputId": "dea41f5b-7093-4fb5-8d4c-ff2a893f5d5a"
   },
   "outputs": [
    {
     "data": {
      "text/plain": [
       "False"
      ]
     },
     "execution_count": 14,
     "metadata": {
      "tags": []
     },
     "output_type": "execute_result"
    }
   ],
   "source": [
    "# เราสามารถใช้ and, or, not เพื่อเชื่อมการเปรียบเทียบ (ค่า True, False) หลายๆ ชุดเข้าด้วยกัน\n",
    "\n",
    "# ถ้าเบอร์ลงท้ายด้วย 9 หรือ 5\n",
    "phone_number[-1] == '9' or phone_number[-1] == '5'"
   ]
  },
  {
   "cell_type": "code",
   "execution_count": 18,
   "metadata": {
    "colab": {
     "autoexec": {
      "startup": false,
      "wait_interval": 0
     },
     "base_uri": "https://localhost:8080/",
     "height": 0
    },
    "colab_type": "code",
    "executionInfo": {
     "elapsed": 897,
     "status": "ok",
     "timestamp": 1530259111213,
     "user": {
      "displayName": "Arthit Suriyawongkul",
      "photoUrl": "//lh4.googleusercontent.com/-mAKh3dZp8q4/AAAAAAAAAAI/AAAAAAABQUQ/C_YQUa0SdMo/s50-c-k-no/photo.jpg",
      "userId": "108240001393775873001"
     },
     "user_tz": -420
    },
    "id": "rp_vfqRDi7h1",
    "outputId": "9b1aba58-3c44-47a4-df72-b6114213e6eb"
   },
   "outputs": [],
   "source": [
    "# ถ้าเบอร์ลงท้ายด้วย 9 หรือ 5 -> ถือว่าเป็น \"เบอร์มงคล\"\n",
    "if phone_number[-1] == '9' or phone_number[-1] == '5':\n",
    "  print(\"เบอร์มงคล\")\n",
    "else:\n",
    "  print(\"อาจจะเป็นเบอร์มงคลหรือไม่มงคลก็ได้\")"
   ]
  },
  {
   "cell_type": "markdown",
   "metadata": {
    "colab_type": "text",
    "id": "yoh7f0Qyjsdu"
   },
   "source": [
    "**ได้ 2 กฎแล้ว!**"
   ]
  },
  {
   "cell_type": "markdown",
   "metadata": {
    "colab_type": "text",
    "id": "gHKuMxOzsJKx"
   },
   "source": [
    "# (กฎ 3) ถ้าเลขทั้งหมดบวกกันได้ 12, 14, 15, 37, 42, หรือ 49 ถ้าว่าเป็น \"เบอร์มงคล\""
   ]
  },
  {
   "cell_type": "code",
   "execution_count": 21,
   "metadata": {
    "colab": {
     "autoexec": {
      "startup": false,
      "wait_interval": 0
     },
     "base_uri": "https://localhost:8080/",
     "height": 35
    },
    "colab_type": "code",
    "executionInfo": {
     "elapsed": 818,
     "status": "ok",
     "timestamp": 1530260076796,
     "user": {
      "displayName": "Arthit Suriyawongkul",
      "photoUrl": "//lh4.googleusercontent.com/-mAKh3dZp8q4/AAAAAAAAAAI/AAAAAAABQUQ/C_YQUa0SdMo/s50-c-k-no/photo.jpg",
      "userId": "108240001393775873001"
     },
     "user_tz": -420
    },
    "id": "fyjhDp6sjrpA",
    "outputId": "1964a97e-68c5-447d-c2e8-73230878f8e9"
   },
   "outputs": [
    {
     "data": {
      "text/plain": [
       "'03212451984'"
      ]
     },
     "execution_count": 21,
     "metadata": {
      "tags": []
     },
     "output_type": "execute_result"
    }
   ],
   "source": [
    "# 3. ถ้าเลขทั้งหมดบวกกันได้ 12, 14, 15, 37, 42, หรือ 49 ถ้าว่าเป็น \"เบอร์มงคล\"\n",
    "\n",
    "# ตรงนี้เราแบ่งออกมาได้เป็น 2 โจทย์ย่อย\n",
    "# 3.1 เลขทั้งหมดบวกกันได้ผลรวมเท่าไร\n",
    "# 3.2 ผลรวมนั้นเป็น 12, 14, 15, 37, 42, หรือ 49 ไหม ถ้าใช่เป็น \"เบอร์มงคล\"\n",
    "\n",
    "# เบอร์ของเราตอนนี้\n",
    "phone_number"
   ]
  },
  {
   "cell_type": "code",
   "execution_count": 34,
   "metadata": {
    "colab": {
     "autoexec": {
      "startup": false,
      "wait_interval": 0
     },
     "base_uri": "https://localhost:8080/",
     "height": 35
    },
    "colab_type": "code",
    "executionInfo": {
     "elapsed": 693,
     "status": "ok",
     "timestamp": 1530260898702,
     "user": {
      "displayName": "Arthit Suriyawongkul",
      "photoUrl": "//lh4.googleusercontent.com/-mAKh3dZp8q4/AAAAAAAAAAI/AAAAAAABQUQ/C_YQUa0SdMo/s50-c-k-no/photo.jpg",
      "userId": "108240001393775873001"
     },
     "user_tz": -420
    },
    "id": "PsBXA-25m7kS",
    "outputId": "be183fdf-f78f-4c11-831b-37f3e6075caa"
   },
   "outputs": [
    {
     "data": {
      "text/plain": [
       "['0', '3', '2', '0', '2', '3', '5', '1', '9', '8', '4']"
      ]
     },
     "execution_count": 34,
     "metadata": {
      "tags": []
     },
     "output_type": "execute_result"
    }
   ],
   "source": [
    "# หาทางบวกก่อน\n",
    "# การหาผลรวม คือบวกเลขแต่ละหลัก เราก็ต้องหาทางแยกเลขออกมาเป็นหลักๆ ก่อน\n",
    "# ทำนองนี้ \"123\" -> 1, 2, 3 -> 1+2+3 -> 6\n",
    "\n",
    "# ใน Python เรามีท่าขี้โกงแบบนี้ คือตอนสร้าง list\n",
    "# เราสามารถส่งสายอักขระ (ข้อความ) เข้าไป\n",
    "# เพื่อให้มันแตกสายข้อความออกมาแล้วเอาไปใส่เป็นสมาชิกของ list ใหม่นั้น\n",
    "# โดยที่สมาชิกแต่ละตัวจะเป็นอักขระความยาว 1 ตัว\n",
    "\n",
    "numbers = list(phone_number)\n",
    "\n",
    "numbers"
   ]
  },
  {
   "cell_type": "code",
   "execution_count": 25,
   "metadata": {
    "colab": {
     "autoexec": {
      "startup": false,
      "wait_interval": 0
     },
     "base_uri": "https://localhost:8080/",
     "height": 90
    },
    "colab_type": "code",
    "executionInfo": {
     "elapsed": 680,
     "status": "ok",
     "timestamp": 1530260244315,
     "user": {
      "displayName": "Arthit Suriyawongkul",
      "photoUrl": "//lh4.googleusercontent.com/-mAKh3dZp8q4/AAAAAAAAAAI/AAAAAAABQUQ/C_YQUa0SdMo/s50-c-k-no/photo.jpg",
      "userId": "108240001393775873001"
     },
     "user_tz": -420
    },
    "id": "BHoTYQM1nC-T",
    "outputId": "e8a40f0a-a73c-4e63-a571-019c2c63f986"
   },
   "outputs": [
    {
     "name": "stdout",
     "output_type": "stream",
     "text": [
      "0\n",
      "3\n",
      "2\n",
      "4\n"
     ]
    }
   ],
   "source": [
    "# ได้เลขออกมาเป็นหลักๆ แล้ว\n",
    "# วิธีหนึ่งที่เราสามารถเข้าถึงสมาชิกใน list คือ อ้างอิงเลขดัชนี (index)\n",
    "\n",
    "print(numbers[0]) # พิมพ์เลขตำแหน่งที่ 1 จากต้น (index 0)\n",
    "print(numbers[1]) # พิมพ์เลขตำแหน่งที่ 2 จากต้น (index 1)\n",
    "print(numbers[4]) # พิมพ์เลขตำแหน่งที่ 5 จากต้น (index 4)\n",
    "print(numbers[-1]) # พิมพ์เลขตำแหน่งที่ 1 จากท้าย (index -1)"
   ]
  },
  {
   "cell_type": "code",
   "execution_count": 26,
   "metadata": {
    "colab": {
     "autoexec": {
      "startup": false,
      "wait_interval": 0
     },
     "base_uri": "https://localhost:8080/",
     "height": 35
    },
    "colab_type": "code",
    "executionInfo": {
     "elapsed": 946,
     "status": "ok",
     "timestamp": 1530260284039,
     "user": {
      "displayName": "Arthit Suriyawongkul",
      "photoUrl": "//lh4.googleusercontent.com/-mAKh3dZp8q4/AAAAAAAAAAI/AAAAAAABQUQ/C_YQUa0SdMo/s50-c-k-no/photo.jpg",
      "userId": "108240001393775873001"
     },
     "user_tz": -420
    },
    "id": "a5mK9aDYnm2E",
    "outputId": "61d2f344-8109-4949-8f59-e040270641c4"
   },
   "outputs": [
    {
     "data": {
      "text/plain": [
       "'03'"
      ]
     },
     "execution_count": 26,
     "metadata": {
      "tags": []
     },
     "output_type": "execute_result"
    }
   ],
   "source": [
    "# ลองบวกกัน\n",
    "numbers[0] + numbers[1]"
   ]
  },
  {
   "cell_type": "markdown",
   "metadata": {
    "colab_type": "text",
    "id": "enEsGcA2n0ER"
   },
   "source": [
    "**อ้าว**"
   ]
  },
  {
   "cell_type": "code",
   "execution_count": 27,
   "metadata": {
    "colab": {
     "autoexec": {
      "startup": false,
      "wait_interval": 0
     },
     "base_uri": "https://localhost:8080/",
     "height": 35
    },
    "colab_type": "code",
    "executionInfo": {
     "elapsed": 910,
     "status": "ok",
     "timestamp": 1530260486022,
     "user": {
      "displayName": "Arthit Suriyawongkul",
      "photoUrl": "//lh4.googleusercontent.com/-mAKh3dZp8q4/AAAAAAAAAAI/AAAAAAABQUQ/C_YQUa0SdMo/s50-c-k-no/photo.jpg",
      "userId": "108240001393775873001"
     },
     "user_tz": -420
    },
    "id": "Ea8BWbwKnwYk",
    "outputId": "adcaf6c7-62ce-43ad-f1d1-f25a208a87e6"
   },
   "outputs": [
    {
     "data": {
      "text/plain": [
       "'0'"
      ]
     },
     "execution_count": 27,
     "metadata": {
      "tags": []
     },
     "output_type": "execute_result"
    }
   ],
   "source": [
    "# ที่เป็นแบบนี้ เพราะที่เราทำไป คือการเอาข้อความมาบวกกับข้อความ (str + str)\n",
    "# Python ก็เลยเอาข้อความมาต่อกันให้เรา\n",
    "# ถ้าเราจะบวกจำนวน เราต้องแปลงข้อความให้เป็นจำนวนก่อน\n",
    "\n",
    "# ลองดูค่าสมาชิกใน list สักตัวดูก่อน ว่ามันมีค่าอะไร\n",
    "numbers[0]"
   ]
  },
  {
   "cell_type": "code",
   "execution_count": 28,
   "metadata": {
    "colab": {
     "autoexec": {
      "startup": false,
      "wait_interval": 0
     },
     "base_uri": "https://localhost:8080/",
     "height": 35
    },
    "colab_type": "code",
    "executionInfo": {
     "elapsed": 707,
     "status": "ok",
     "timestamp": 1530260515699,
     "user": {
      "displayName": "Arthit Suriyawongkul",
      "photoUrl": "//lh4.googleusercontent.com/-mAKh3dZp8q4/AAAAAAAAAAI/AAAAAAABQUQ/C_YQUa0SdMo/s50-c-k-no/photo.jpg",
      "userId": "108240001393775873001"
     },
     "user_tz": -420
    },
    "id": "yvkFIexRof3y",
    "outputId": "72e99b71-867d-44db-c030-ba44363d7a47"
   },
   "outputs": [
    {
     "data": {
      "text/plain": [
       "0"
      ]
     },
     "execution_count": 28,
     "metadata": {
      "tags": []
     },
     "output_type": "execute_result"
    }
   ],
   "source": [
    "# แปลงมันเป็นจำนวนด้วย int() หรือ float()\n",
    "int(numbers[0])"
   ]
  },
  {
   "cell_type": "markdown",
   "metadata": {
    "colab_type": "text",
    "id": "PHt7KDpMonTl"
   },
   "source": [
    "ถ้าสังเกตจะเห็นว่า ค่าของ numbers[0] กับ int(numbers[0]) ที่ Colab แสดงให้เราดู จะไม่เหมือนกันเสียทีเดียว\n",
    "\n",
    "อันแรกจะมีเครื่องหมายคำพูดขีดเดียว (single quote) คร่อมอยู่ เช่น '0'\n",
    "\n",
    "ในขณะที่อันสอง จะแสดงเป็นตัวเลขเฉยๆ เลย เช่น 0\n",
    "\n",
    "ที่เป็นอย่างนี้เพราะจริงๆ สมาชิกใน list ของเราตอนนี้คือตัวอักขระ (str)\n",
    "\n",
    "แต่พอเราใช้คำสั่ง int() มันจะแปลงตัวอักขระให้เป็นจำนวน (ถ้ามันทำได้)"
   ]
  },
  {
   "cell_type": "code",
   "execution_count": 29,
   "metadata": {
    "colab": {
     "autoexec": {
      "startup": false,
      "wait_interval": 0
     },
     "base_uri": "https://localhost:8080/",
     "height": 35
    },
    "colab_type": "code",
    "executionInfo": {
     "elapsed": 760,
     "status": "ok",
     "timestamp": 1530260731671,
     "user": {
      "displayName": "Arthit Suriyawongkul",
      "photoUrl": "//lh4.googleusercontent.com/-mAKh3dZp8q4/AAAAAAAAAAI/AAAAAAABQUQ/C_YQUa0SdMo/s50-c-k-no/photo.jpg",
      "userId": "108240001393775873001"
     },
     "user_tz": -420
    },
    "id": "zNTNwTpEo9TY",
    "outputId": "fa1985a1-b1c2-4a08-90bc-8e0375841d19"
   },
   "outputs": [
    {
     "data": {
      "text/plain": [
       "3"
      ]
     },
     "execution_count": 29,
     "metadata": {
      "tags": []
     },
     "output_type": "execute_result"
    }
   ],
   "source": [
    "# ลองบวกใหม่ คราวนี้แปลงให้มันเป็นจำนวนก่อนจะบวกกัน\n",
    "int(numbers[0]) + int(numbers[1])"
   ]
  },
  {
   "cell_type": "markdown",
   "metadata": {
    "colab_type": "text",
    "id": "vwnlq1bspdDJ"
   },
   "source": [
    "**เยส**"
   ]
  },
  {
   "cell_type": "code",
   "execution_count": 35,
   "metadata": {
    "colab": {
     "autoexec": {
      "startup": false,
      "wait_interval": 0
     },
     "base_uri": "https://localhost:8080/",
     "height": 35
    },
    "colab_type": "code",
    "executionInfo": {
     "elapsed": 740,
     "status": "ok",
     "timestamp": 1530260901921,
     "user": {
      "displayName": "Arthit Suriyawongkul",
      "photoUrl": "//lh4.googleusercontent.com/-mAKh3dZp8q4/AAAAAAAAAAI/AAAAAAABQUQ/C_YQUa0SdMo/s50-c-k-no/photo.jpg",
      "userId": "108240001393775873001"
     },
     "user_tz": -420
    },
    "id": "bUi5SWzApcAx",
    "outputId": "f21e6bc9-ffc0-4644-e085-a674a5ffc170"
   },
   "outputs": [
    {
     "data": {
      "text/plain": [
       "37"
      ]
     },
     "execution_count": 35,
     "metadata": {
      "tags": []
     },
     "output_type": "execute_result"
    }
   ],
   "source": [
    "# คราวนี้เราบวกเลขหลักแรกกับหลักสองได้แล้ว ต้องหาทางบวกทุกหลัก\n",
    "# ทำไง\n",
    "\n",
    "result = 0 # ผลลัพธ์สุดท้ายจะอยู่ในนี้ โดยที่ระหว่างทางจะใช้ทดด้วย\n",
    "for n in numbers:          # เอาสมาชิกใน numbers มาใส่ใน n ทีละตัว\n",
    "  result = result + int(n) # เอาผลลัพธ์ล่าสุดที่ทดไว้ มาบวกกับ n แล้วเอาผลลัพธ์ล่าสุดเขียนทับที่ทดไว้\n",
    "                           # วนขึ้นไปใหม่ จนกว่าครบทุกสมาชิกใน numbers\n",
    "\n",
    "result"
   ]
  },
  {
   "cell_type": "code",
   "execution_count": 37,
   "metadata": {
    "colab": {
     "autoexec": {
      "startup": false,
      "wait_interval": 0
     },
     "base_uri": "https://localhost:8080/",
     "height": 35
    },
    "colab_type": "code",
    "executionInfo": {
     "elapsed": 669,
     "status": "ok",
     "timestamp": 1530261109364,
     "user": {
      "displayName": "Arthit Suriyawongkul",
      "photoUrl": "//lh4.googleusercontent.com/-mAKh3dZp8q4/AAAAAAAAAAI/AAAAAAABQUQ/C_YQUa0SdMo/s50-c-k-no/photo.jpg",
      "userId": "108240001393775873001"
     },
     "user_tz": -420
    },
    "id": "6NBrepr3qHTw",
    "outputId": "1b5e7a54-fba8-449e-e285-42c13963e8d2"
   },
   "outputs": [
    {
     "data": {
      "text/plain": [
       "[12, 14, 15, 37, 42, 49]"
      ]
     },
     "execution_count": 37,
     "metadata": {
      "tags": []
     },
     "output_type": "execute_result"
    }
   ],
   "source": [
    "# ได้ผลลัพธ์มาแล้ว ทำโจทย์ย่อย 3.1 สำเร็จ (เลขทั้งหมดบวกกันได้ผลรวมเท่าไร)\n",
    "# ทีนี้เราก็มาทำโจทย์ย่อย 3.2 ว่า\n",
    "# ผลรวมนั้นเป็น 12, 14, 15, 37, 42, หรือ 49 ไหม\n",
    "\n",
    "# วิธีนึงที่ทำได้คือ กำหนด list อีกอันขึ้นมา เอาตัวเลขที่อยากหาไปใส่ใน list นั้น\n",
    "\n",
    "mongkol_numbers = [12, 14, 15, 37, 42, 49]\n",
    "\n",
    "mongkol_numbers"
   ]
  },
  {
   "cell_type": "code",
   "execution_count": 41,
   "metadata": {
    "colab": {
     "autoexec": {
      "startup": false,
      "wait_interval": 0
     },
     "base_uri": "https://localhost:8080/",
     "height": 35
    },
    "colab_type": "code",
    "executionInfo": {
     "elapsed": 708,
     "status": "ok",
     "timestamp": 1530261163629,
     "user": {
      "displayName": "Arthit Suriyawongkul",
      "photoUrl": "//lh4.googleusercontent.com/-mAKh3dZp8q4/AAAAAAAAAAI/AAAAAAABQUQ/C_YQUa0SdMo/s50-c-k-no/photo.jpg",
      "userId": "108240001393775873001"
     },
     "user_tz": -420
    },
    "id": "74I6Tt1Hq321",
    "outputId": "85c27f78-302c-41bd-e5d1-c9745a489d5c"
   },
   "outputs": [
    {
     "data": {
      "text/plain": [
       "False"
      ]
     },
     "execution_count": 41,
     "metadata": {
      "tags": []
     },
     "output_type": "execute_result"
    }
   ],
   "source": [
    "# จากนั้น เราสามารถใช้ operator \"in\" เพื่อหาสมาชิกได้\n",
    "56 in mongkol_numbers"
   ]
  },
  {
   "cell_type": "code",
   "execution_count": 42,
   "metadata": {
    "colab": {
     "autoexec": {
      "startup": false,
      "wait_interval": 0
     },
     "base_uri": "https://localhost:8080/",
     "height": 35
    },
    "colab_type": "code",
    "executionInfo": {
     "elapsed": 746,
     "status": "ok",
     "timestamp": 1530261165505,
     "user": {
      "displayName": "Arthit Suriyawongkul",
      "photoUrl": "//lh4.googleusercontent.com/-mAKh3dZp8q4/AAAAAAAAAAI/AAAAAAABQUQ/C_YQUa0SdMo/s50-c-k-no/photo.jpg",
      "userId": "108240001393775873001"
     },
     "user_tz": -420
    },
    "id": "vEczW24XrASz",
    "outputId": "de077d99-7c32-47ef-dc35-d76a3dbdb6bc"
   },
   "outputs": [
    {
     "data": {
      "text/plain": [
       "True"
      ]
     },
     "execution_count": 42,
     "metadata": {
      "tags": []
     },
     "output_type": "execute_result"
    }
   ],
   "source": [
    "14 in mongkol_numbers"
   ]
  },
  {
   "cell_type": "code",
   "execution_count": 43,
   "metadata": {
    "colab": {
     "autoexec": {
      "startup": false,
      "wait_interval": 0
     },
     "base_uri": "https://localhost:8080/",
     "height": 35
    },
    "colab_type": "code",
    "executionInfo": {
     "elapsed": 717,
     "status": "ok",
     "timestamp": 1530261187228,
     "user": {
      "displayName": "Arthit Suriyawongkul",
      "photoUrl": "//lh4.googleusercontent.com/-mAKh3dZp8q4/AAAAAAAAAAI/AAAAAAABQUQ/C_YQUa0SdMo/s50-c-k-no/photo.jpg",
      "userId": "108240001393775873001"
     },
     "user_tz": -420
    },
    "id": "u5OSGbIjrF8n",
    "outputId": "be4653ce-9327-4263-a9b4-543a4758e13a"
   },
   "outputs": [
    {
     "data": {
      "text/plain": [
       "True"
      ]
     },
     "execution_count": 43,
     "metadata": {
      "tags": []
     },
     "output_type": "execute_result"
    }
   ],
   "source": [
    "# ลองเอาผลลัพธ์ที่บวกกันได้ตะกี้ไปหาหน่อย ก็จะรู้ว่าเป็นเลขมงคลหรือไม่\n",
    "\n",
    "result in mongkol_numbers"
   ]
  },
  {
   "cell_type": "code",
   "execution_count": 44,
   "metadata": {
    "colab": {
     "autoexec": {
      "startup": false,
      "wait_interval": 0
     },
     "base_uri": "https://localhost:8080/",
     "height": 35
    },
    "colab_type": "code",
    "executionInfo": {
     "elapsed": 710,
     "status": "ok",
     "timestamp": 1530261268282,
     "user": {
      "displayName": "Arthit Suriyawongkul",
      "photoUrl": "//lh4.googleusercontent.com/-mAKh3dZp8q4/AAAAAAAAAAI/AAAAAAABQUQ/C_YQUa0SdMo/s50-c-k-no/photo.jpg",
      "userId": "108240001393775873001"
     },
     "user_tz": -420
    },
    "id": "QO9q-xx3rPCl",
    "outputId": "e8458fc7-557c-4f1b-f230-9923b5ec9c12"
   },
   "outputs": [
    {
     "name": "stdout",
     "output_type": "stream",
     "text": [
      "เบอร์มงคล\n"
     ]
    }
   ],
   "source": [
    "# 3. ถ้าเลขทั้งหมดบวกกันได้ 12, 14, 15, 37, 42, หรือ 49 ถ้าว่าเป็น \"เบอร์มงคล\"\n",
    "\n",
    "if result in mongkol_numbers:\n",
    "  print(\"เบอร์มงคล\")\n",
    "else:\n",
    "  print(\"อาจจะเป็นเบอร์มงคลหรือไม่มงคลก็ได้\")"
   ]
  },
  {
   "cell_type": "markdown",
   "metadata": {
    "colab_type": "text",
    "id": "EDEBTtANrgOd"
   },
   "source": [
    "**ทำได้ 3 กฏแล้ว!**"
   ]
  },
  {
   "cell_type": "markdown",
   "metadata": {
    "colab_type": "text",
    "id": "HHYfIadMr6n_"
   },
   "source": [
    "# ประกอบร่าง\n",
    "\n",
    "เราได้โค้ดสำหรับ 3 กฎแล้ว ซึ่งอยู่กระจัดกระจายมาก เดี๋ยวเราจะลองเอาทั้งหมดนั้นมารวมร่างกัน พร้อมกับใส่กฎข้อ 4 เข้าไปด้วย\n",
    "\n"
   ]
  },
  {
   "cell_type": "code",
   "execution_count": 51,
   "metadata": {
    "colab": {
     "autoexec": {
      "startup": false,
      "wait_interval": 0
     },
     "base_uri": "https://localhost:8080/",
     "height": 72
    },
    "colab_type": "code",
    "executionInfo": {
     "elapsed": 714,
     "status": "ok",
     "timestamp": 1530263183013,
     "user": {
      "displayName": "Arthit Suriyawongkul",
      "photoUrl": "//lh4.googleusercontent.com/-mAKh3dZp8q4/AAAAAAAAAAI/AAAAAAABQUQ/C_YQUa0SdMo/s50-c-k-no/photo.jpg",
      "userId": "108240001393775873001"
     },
     "user_tz": -420
    },
    "id": "1MaY3zsLr0nJ",
    "outputId": "9e2ec24d-0a0c-4ffc-bcc7-26d2fd33f370"
   },
   "outputs": [
    {
     "name": "stdout",
     "output_type": "stream",
     "text": [
      "อาจจะเป็นเบอร์มงคลหรือไม่มงคลก็ได้\n",
      "อาจจะเป็นเบอร์มงคลหรือไม่มงคลก็ได้\n",
      "เบอร์มงคล\n"
     ]
    }
   ],
   "source": [
    "# อันนี้คือโค้ดสำหรับ 3 กฎที่เรามีอยู่ (ก๊อปมาจากข้างบน)\n",
    "# ลองรันดูครับ\n",
    "\n",
    "# กำหนดเบอร์\n",
    "phone_number = \"03202351984\"\n",
    "\n",
    "# กฎข้อ 1\n",
    "if \"13\" in phone_number:\n",
    "  print(\"เบอร์ไม่มงคล\")\n",
    "else:\n",
    "  print(\"อาจจะเป็นเบอร์มงคลหรือไม่มงคลก็ได้\")\n",
    "\n",
    "# กฎข้อ 2\n",
    "if phone_number[-1] == '9' or phone_number[-1] == '5':\n",
    "  print(\"เบอร์มงคล\")\n",
    "else:\n",
    "  print(\"อาจจะเป็นเบอร์มงคลหรือไม่มงคลก็ได้\")\n",
    "  \n",
    "# กฎข้อ 3\n",
    "numbers = list(phone_number)\n",
    "result = 0\n",
    "for n in numbers:\n",
    "  result = result + int(n)\n",
    "\n",
    "mongkol_numbers = [12, 14, 15, 37, 42, 49]\n",
    "\n",
    "if result in mongkol_numbers:\n",
    "  print(\"เบอร์มงคล\")\n",
    "else:\n",
    "  print(\"อาจจะเป็นเบอร์มงคลหรือไม่มงคลก็ได้\")"
   ]
  },
  {
   "cell_type": "code",
   "execution_count": 56,
   "metadata": {
    "colab": {
     "autoexec": {
      "startup": false,
      "wait_interval": 0
     },
     "base_uri": "https://localhost:8080/",
     "height": 35
    },
    "colab_type": "code",
    "executionInfo": {
     "elapsed": 717,
     "status": "ok",
     "timestamp": 1530263253235,
     "user": {
      "displayName": "Arthit Suriyawongkul",
      "photoUrl": "//lh4.googleusercontent.com/-mAKh3dZp8q4/AAAAAAAAAAI/AAAAAAABQUQ/C_YQUa0SdMo/s50-c-k-no/photo.jpg",
      "userId": "108240001393775873001"
     },
     "user_tz": -420
    },
    "id": "UOYHKmFTvxUf",
    "outputId": "4ede4ece-dbc6-4359-aff1-2197d1d48c49"
   },
   "outputs": [
    {
     "name": "stdout",
     "output_type": "stream",
     "text": [
      "Case 3: เบอร์มงคล - ผลรวมเท่ากับ 37\n"
     ]
    }
   ],
   "source": [
    "# จะเห็นว่าแต่ละกฎก็จะพิมพ์คำตัดสินของมันออกมา เราเลยได้ข้อความ 3 ชุด อ่านแล้วก็อาจจะงงๆ ว่าจะเอายังไง\n",
    "# เราอยากให้มันคิดมาให้เสร็จทุกกฎ แล้วบอกกับเราทีเดียว\n",
    "\n",
    "# วิธีหนึ่งก็คือ จับมันมาอยู่รวมกันใน if-else condition โครงเดียวกันให้หมด ซ้อนๆ กันไป\n",
    "# โดยตรวจสอบกับกฎข้อ 1 ก่อน ถ้าตรงกฎก็บอกคำตัดสินเลย ถ้าไม่ตรงก็ไปตรวจกับกฎข้อ 2 ไล่ไปเรื่อยๆ\n",
    "\n",
    "# - เราจะเพิ่มกฎข้อ 4 เข้าไปในนี้ด้วย คือ \"4. เบอร์ใดๆ ที่ไม่ใช่ 'เบอร์มงคล' คือ 'เบอร์ไม่มงคล'\"\n",
    "# ทั้งนี้ถ้าการตรวจเงื่อนไขหลุดจากข้อ 2 และ 3 มา แปลว่ามันไม่มีทางเป็นเบอร์มงคลแล้ว\n",
    "# ดังนั้นถ้ามันหลุดมาถึงจุดนี้ เราก็จะบอกไปเลยว่าเบอร์นี้ไม่มงคลนะ\n",
    "\n",
    "# กำหนดเบอร์\n",
    "phone_number = \"03202351984\"\n",
    "\n",
    "# ตรวจกฎข้อ 1\n",
    "if \"13\" in phone_number:\n",
    "  print(\"Case 1: เบอร์ไม่มงคล - มีเลข 13\")\n",
    "else:\n",
    "  # ตรวจกฎข้อ 2\n",
    "  if phone_number[-1] == '9' or phone_number[-1] == '5':\n",
    "    print(\"Case 2: เบอร์มงคล - ลงท้ายด้วย 9 หรือ 5\")\n",
    "  else:\n",
    "    # ตรวจกฎข้อ 3\n",
    "    numbers = list(phone_number)\n",
    "    result = 0\n",
    "    for n in numbers:\n",
    "      result = result + int(n)\n",
    "\n",
    "    mongkol_numbers = [12, 14, 15, 37, 42, 49]\n",
    "\n",
    "    if result in mongkol_numbers:\n",
    "      print(\"Case 3: เบอร์มงคล - ผลรวมเท่ากับ\", result)\n",
    "    else:\n",
    "      # เข้ากฎข้อ 4 ทันที\n",
    "      print(\"Case 4: เบอร์ไม่มงคล - เพราะไม่ใช่เบอร์มงคล\")"
   ]
  },
  {
   "cell_type": "markdown",
   "metadata": {
    "colab_type": "text",
    "id": "9SebQtJ51015"
   },
   "source": [
    "# ประกอบร่างเป็นฟังก์ชัน (function)"
   ]
  },
  {
   "cell_type": "code",
   "execution_count": 60,
   "metadata": {
    "colab": {
     "autoexec": {
      "startup": false,
      "wait_interval": 0
     },
     "base_uri": "https://localhost:8080/",
     "height": 35
    },
    "colab_type": "code",
    "executionInfo": {
     "elapsed": 785,
     "status": "ok",
     "timestamp": 1530263660711,
     "user": {
      "displayName": "Arthit Suriyawongkul",
      "photoUrl": "//lh4.googleusercontent.com/-mAKh3dZp8q4/AAAAAAAAAAI/AAAAAAABQUQ/C_YQUa0SdMo/s50-c-k-no/photo.jpg",
      "userId": "108240001393775873001"
     },
     "user_tz": -420
    },
    "id": "ux2lZt62zGVz",
    "outputId": "2fd6aec5-2daa-4048-f215-efea6599a532"
   },
   "outputs": [
    {
     "name": "stdout",
     "output_type": "stream",
     "text": [
      "Case 3: เบอร์มงคล - ผลรวมเท่ากับ 37\n"
     ]
    }
   ],
   "source": [
    "# เราสามารถนำโค้ดยาวๆ ของเรา ไปใส่ไว้ในฟังก์ชัน เพื่อให้เวลานำไปใช้สะดวกขึ้น เรียกสั้นๆ ก็พอ\n",
    "# การสร้างฟังก์ชัน เราใช้คำว่า def ตามด้วยชื่อฟังก์ชันที่จะสร้าง\n",
    "\n",
    "# ชื่อฟังก์ชันควรเป็นอักษรตัวเล็ก ถ้าเป็นสองคำหรือมากกว่าให้คั่นระหว่างคำด้วย _\n",
    "# (ตรงนี้ไม่จำเป็น แต่เป็น convention เพื่อให้โค้ดของโปรแกรมเมอร์ทุกคนหน้าตาคล้ายๆ กัน ดูแลง่าย)\n",
    "\n",
    "def is_mongkol(num): # ชื่อฟังก์ชัน is_mongkol รับค่าจากข้างนอกมาใช้ 1 ตัวโดยให้ชื่อชั่วคราวว่า num\n",
    "  if \"13\" in num: # เนื่องจากเรารับค่าเบอร์โทรศัพท์มาจากข้างนอกและให้ชื่อมันว่า num ตรงนี้ก็เลยต้องใช้ num\n",
    "    print(\"Case 1: เบอร์ไม่มงคล - มีเลข 13\")\n",
    "  else:\n",
    "    if num[-1] == '9' or num[-1] == '5':\n",
    "      print(\"Case 2: เบอร์มงคล - ลงท้ายด้วย 9 หรือ 5\")\n",
    "    else:\n",
    "      numbers = list(num)\n",
    "      result = 0\n",
    "      for n in numbers:\n",
    "        result = result + int(n)\n",
    "\n",
    "      mongkol_numbers = [12, 14, 15, 37, 42, 49]\n",
    "\n",
    "      if result in mongkol_numbers:\n",
    "        print(\"Case 3: เบอร์มงคล - ผลรวมเท่ากับ\", result)\n",
    "      else:\n",
    "        print(\"Case 4: เบอร์ไม่มงคล - เพราะไม่ใช่เบอร์มงคล\") \n",
    "\n",
    "is_mongkol(\"03202351984\")"
   ]
  },
  {
   "cell_type": "markdown",
   "metadata": {
    "colab_type": "text",
    "id": "Jql3Rm9E08b2"
   },
   "source": [
    "จะเห็นว่า พอเราทำเป็นฟังก์ชันแล้ว เราก็เรียกใช้มันได้ง่ายๆ"
   ]
  },
  {
   "cell_type": "code",
   "execution_count": 64,
   "metadata": {
    "colab": {
     "autoexec": {
      "startup": false,
      "wait_interval": 0
     },
     "base_uri": "https://localhost:8080/",
     "height": 35
    },
    "colab_type": "code",
    "executionInfo": {
     "elapsed": 740,
     "status": "ok",
     "timestamp": 1530263788446,
     "user": {
      "displayName": "Arthit Suriyawongkul",
      "photoUrl": "//lh4.googleusercontent.com/-mAKh3dZp8q4/AAAAAAAAAAI/AAAAAAABQUQ/C_YQUa0SdMo/s50-c-k-no/photo.jpg",
      "userId": "108240001393775873001"
     },
     "user_tz": -420
    },
    "id": "ZuSnoNME0bY8",
    "outputId": "d7a4ee35-35ba-4e67-92ff-128a0022bfa4"
   },
   "outputs": [
    {
     "name": "stdout",
     "output_type": "stream",
     "text": [
      "Case 1: เบอร์ไม่มงคล - มีเลข 13\n"
     ]
    }
   ],
   "source": [
    "is_mongkol(\"0984413755\")"
   ]
  },
  {
   "cell_type": "code",
   "execution_count": 65,
   "metadata": {
    "colab": {
     "autoexec": {
      "startup": false,
      "wait_interval": 0
     },
     "base_uri": "https://localhost:8080/",
     "height": 35
    },
    "colab_type": "code",
    "executionInfo": {
     "elapsed": 706,
     "status": "ok",
     "timestamp": 1530263807968,
     "user": {
      "displayName": "Arthit Suriyawongkul",
      "photoUrl": "//lh4.googleusercontent.com/-mAKh3dZp8q4/AAAAAAAAAAI/AAAAAAABQUQ/C_YQUa0SdMo/s50-c-k-no/photo.jpg",
      "userId": "108240001393775873001"
     },
     "user_tz": -420
    },
    "id": "cTDmONxv1H5N",
    "outputId": "d5374554-e534-4c72-b1d0-06f7710ad1b7"
   },
   "outputs": [
    {
     "name": "stdout",
     "output_type": "stream",
     "text": [
      "Case 2: เบอร์มงคล - ลงท้ายด้วย 9 หรือ 5\n"
     ]
    }
   ],
   "source": [
    "is_mongkol(\"0379844755\")"
   ]
  },
  {
   "cell_type": "code",
   "execution_count": 66,
   "metadata": {
    "colab": {
     "autoexec": {
      "startup": false,
      "wait_interval": 0
     },
     "base_uri": "https://localhost:8080/",
     "height": 35
    },
    "colab_type": "code",
    "executionInfo": {
     "elapsed": 712,
     "status": "ok",
     "timestamp": 1530263810854,
     "user": {
      "displayName": "Arthit Suriyawongkul",
      "photoUrl": "//lh4.googleusercontent.com/-mAKh3dZp8q4/AAAAAAAAAAI/AAAAAAABQUQ/C_YQUa0SdMo/s50-c-k-no/photo.jpg",
      "userId": "108240001393775873001"
     },
     "user_tz": -420
    },
    "id": "-a5RpUzH0puV",
    "outputId": "707807e9-178b-431c-dd56-66f856698814"
   },
   "outputs": [
    {
     "name": "stdout",
     "output_type": "stream",
     "text": [
      "Case 4: เบอร์ไม่มงคล - เพราะไม่ใช่เบอร์มงคล\n"
     ]
    }
   ],
   "source": [
    "is_mongkol(\"0984417372\")"
   ]
  },
  {
   "cell_type": "markdown",
   "metadata": {
    "colab_type": "text",
    "id": "-mJg7wrr191a"
   },
   "source": [
    "# ฟังก์ชันที่คืนค่า (return)"
   ]
  },
  {
   "cell_type": "code",
   "execution_count": 67,
   "metadata": {
    "colab": {
     "autoexec": {
      "startup": false,
      "wait_interval": 0
     },
     "base_uri": "https://localhost:8080/",
     "height": 35
    },
    "colab_type": "code",
    "executionInfo": {
     "elapsed": 682,
     "status": "ok",
     "timestamp": 1530264102916,
     "user": {
      "displayName": "Arthit Suriyawongkul",
      "photoUrl": "//lh4.googleusercontent.com/-mAKh3dZp8q4/AAAAAAAAAAI/AAAAAAABQUQ/C_YQUa0SdMo/s50-c-k-no/photo.jpg",
      "userId": "108240001393775873001"
     },
     "user_tz": -420
    },
    "id": "yHfSy0Jh1Omg",
    "outputId": "820f75e8-cd58-44b7-8e20-5c94116db817"
   },
   "outputs": [
    {
     "data": {
      "text/plain": [
       "True"
      ]
     },
     "execution_count": 67,
     "metadata": {
      "tags": []
     },
     "output_type": "execute_result"
    }
   ],
   "source": [
    "# ถ้าอยากจะเอาฟังก์ชันนี้ไปใช้ต่อ ในลักษณะการตรวจเงื่อนไข เราสามารถให้ฟังก์ชันคืนค่าให้เราได้ด้วย\n",
    "# เช่นให้คืนค่า True ถ้าเป็น \"เบอร์มงคล\" คืนค่า False ถ้าเป็น \"เบอร์ไม่มงคล\"\n",
    "\n",
    "def is_mongkol(num):\n",
    "  if \"13\" in num:\n",
    "    return False\n",
    "  else:\n",
    "    if num[-1] == '9' or num[-1] == '5':\n",
    "      return True\n",
    "    else:\n",
    "      numbers = list(num)\n",
    "      result = 0\n",
    "      for n in numbers:\n",
    "        result = result + int(n)\n",
    "\n",
    "      mongkol_numbers = [12, 14, 15, 37, 42, 49]\n",
    "\n",
    "      if result in mongkol_numbers:\n",
    "        return True\n",
    "      else:\n",
    "        return False\n",
    "      \n",
    "is_mongkol(\"0379844755\")"
   ]
  },
  {
   "cell_type": "code",
   "execution_count": 71,
   "metadata": {
    "colab": {
     "autoexec": {
      "startup": false,
      "wait_interval": 0
     },
     "base_uri": "https://localhost:8080/",
     "height": 35
    },
    "colab_type": "code",
    "executionInfo": {
     "elapsed": 722,
     "status": "ok",
     "timestamp": 1530264246697,
     "user": {
      "displayName": "Arthit Suriyawongkul",
      "photoUrl": "//lh4.googleusercontent.com/-mAKh3dZp8q4/AAAAAAAAAAI/AAAAAAABQUQ/C_YQUa0SdMo/s50-c-k-no/photo.jpg",
      "userId": "108240001393775873001"
     },
     "user_tz": -420
    },
    "id": "6uKhpZhc2WEI",
    "outputId": "105c8c0b-20ff-4734-8a21-f6a430cc5f88"
   },
   "outputs": [
    {
     "data": {
      "text/plain": [
       "True"
      ]
     },
     "execution_count": 71,
     "metadata": {
      "tags": []
     },
     "output_type": "execute_result"
    }
   ],
   "source": [
    "phone_number = \"0556655665\"\n",
    "\n",
    "is_mongkol(phone_number)"
   ]
  },
  {
   "cell_type": "code",
   "execution_count": 72,
   "metadata": {
    "colab": {
     "autoexec": {
      "startup": false,
      "wait_interval": 0
     },
     "base_uri": "https://localhost:8080/",
     "height": 35
    },
    "colab_type": "code",
    "executionInfo": {
     "elapsed": 898,
     "status": "ok",
     "timestamp": 1530264248506,
     "user": {
      "displayName": "Arthit Suriyawongkul",
      "photoUrl": "//lh4.googleusercontent.com/-mAKh3dZp8q4/AAAAAAAAAAI/AAAAAAABQUQ/C_YQUa0SdMo/s50-c-k-no/photo.jpg",
      "userId": "108240001393775873001"
     },
     "user_tz": -420
    },
    "id": "fbnbW7g02cOE",
    "outputId": "097bbd54-d10e-4bba-e7d1-52e1a674930f"
   },
   "outputs": [
    {
     "name": "stdout",
     "output_type": "stream",
     "text": [
      "เบอร์มงคลนะนี่\n"
     ]
    }
   ],
   "source": [
    "if is_mongkol(phone_number): # เนื่องจากฟังก์ชัน is_mongkol() คืนค่า True/False เราจึงเอามันมาใช้เป็นเงื่อนไขใน if-else ได้\n",
    "  print(\"เบอร์มงคลนะนี่\")\n",
    "else:\n",
    "  print(\"เบอร์ไม่มงคล\")"
   ]
  },
  {
   "cell_type": "markdown",
   "metadata": {
    "colab_type": "text",
    "id": "ZMvUkOzy242E"
   },
   "source": [
    "# (แถม) ตัวอย่างโค้ดจากคืนวันพุธ\n",
    "\n",
    "อันนี้เป็นเวอร์ชันที่เราช่วยเขียนด้วยกันทั้งห้อง เมื่อคืนวันพุธ หน้าตาจะต่างไปนิดนึง"
   ]
  },
  {
   "cell_type": "code",
   "execution_count": 75,
   "metadata": {
    "colab": {
     "autoexec": {
      "startup": false,
      "wait_interval": 0
     },
     "base_uri": "https://localhost:8080/",
     "height": 35
    },
    "colab_type": "code",
    "executionInfo": {
     "elapsed": 693,
     "status": "ok",
     "timestamp": 1530264588764,
     "user": {
      "displayName": "Arthit Suriyawongkul",
      "photoUrl": "//lh4.googleusercontent.com/-mAKh3dZp8q4/AAAAAAAAAAI/AAAAAAABQUQ/C_YQUa0SdMo/s50-c-k-no/photo.jpg",
      "userId": "108240001393775873001"
     },
     "user_tz": -420
    },
    "id": "b5Nt-5FU3GgE",
    "outputId": "5242cd70-1b66-4a6e-d529-9a72c901431d"
   },
   "outputs": [
    {
     "data": {
      "text/plain": [
       "False"
      ]
     },
     "execution_count": 75,
     "metadata": {
      "tags": []
     },
     "output_type": "execute_result"
    }
   ],
   "source": [
    "# เวอร์ชันที่เขียนวันพุธ หน้าตาจะเป็นแบบนี้\n",
    "# จะเห็นว่าสั้นกว่าหน่อย (และอาจจะอ่านง่ายขึ้นนิดนึง?) เพราะเราตัดเงื่อนไข else ที่ไม่จำเป็นออกไป\n",
    "\n",
    "# เพราะพอเราสั่ง return ในฟังก์ชันแล้ว การทำงานมันจะจบลงทันทีและออกจากฟังก์ชันอยู่แล้ว\n",
    "# โค้ดในส่วน else ลงไปจะไม่มีวันได้ทำงานอยู่แล้ว\n",
    "# จะเห็นว่าการย่นย่อหน้า (แบ่ง code block) ก็จะเปลี่ยนไปด้วย \n",
    "\n",
    "def is_mongkol(num):\n",
    "  if \"13\" in num:\n",
    "    return False\n",
    "  \n",
    "  if num[-1] == '9' or num[-1] == '5':\n",
    "    return True\n",
    "\n",
    "  numbers = list(num)\n",
    "  result = 0\n",
    "  for n in numbers:\n",
    "    result = result + int(n)\n",
    "\n",
    "  mongkol_numbers = [12, 14, 15, 37, 42, 49]\n",
    "  \n",
    "  if result in mongkol_numbers:\n",
    "    return True\n",
    "\n",
    "  return False\n",
    "\n",
    "is_mongkol(\"0875384913\")"
   ]
  },
  {
   "cell_type": "code",
   "execution_count": 77,
   "metadata": {
    "colab": {
     "autoexec": {
      "startup": false,
      "wait_interval": 0
     },
     "base_uri": "https://localhost:8080/",
     "height": 35
    },
    "colab_type": "code",
    "executionInfo": {
     "elapsed": 1026,
     "status": "ok",
     "timestamp": 1530264603507,
     "user": {
      "displayName": "Arthit Suriyawongkul",
      "photoUrl": "//lh4.googleusercontent.com/-mAKh3dZp8q4/AAAAAAAAAAI/AAAAAAABQUQ/C_YQUa0SdMo/s50-c-k-no/photo.jpg",
      "userId": "108240001393775873001"
     },
     "user_tz": -420
    },
    "id": "hPlyEh4C4Fgk",
    "outputId": "a6398423-510d-4958-9b1d-59c5bdeeb190"
   },
   "outputs": [
    {
     "name": "stdout",
     "output_type": "stream",
     "text": [
      "เบอร์มงคลจ้า\n"
     ]
    }
   ],
   "source": [
    "if is_mongkol(\"099999999\"):\n",
    "  print(\"เบอร์มงคลจ้า\")\n",
    "else:\n",
    "  print(\"เบอร์ไม่มงคลอะ\")"
   ]
  },
  {
   "cell_type": "markdown",
   "metadata": {
    "colab_type": "text",
    "id": "KEA1kEk47BTw"
   },
   "source": [
    "# Recap\n",
    "\n",
    "## สิ่งที่น่าจะได้จากตัวอย่างนี้\n",
    "* การแตกโจทย์ใหญ่ออกเป็นโจทย์ย่อย\n",
    "  * เราจะหาเบอร์มงคล ซึ่งมีกฎ 4 ข้อ เราก็หาทีละข้อก่อน\n",
    "  * ข้อไหนใหญ่ ก็ซอยลงไปอีก\n",
    "  * \"เลขตัวสุดท้ายเท่ากับ 5 ไหม\" -> หาเลขตัวสุดท้ายก่อน 1 ขั้น, แล้วค่อยไปเปรียบเทียบกับ 5\n",
    "* ความแตกต่างระหว่าง \"ข้อความ\" (สายอักขระ/str) กับ จำนวน (int) ในการทำงาน\n",
    "* การนับ index ของสายอักขระ\n",
    "  * เริ่มนับจาก 0\n",
    "  * จำนวน 0 และ บวก คือนับจากต้น\n",
    "  * จำนวนติดลบ คือนับจากท้าย (reverse index)\n",
    "* การใช้ in เพื่อหา substring ใน string และหาสมาชิกใน list\n",
    "* การใช้ if-else เพื่อกำหนด flow ของโปรแกรม\n",
    "* การใช้ or เพื่อรวมเงื่อนไข\n",
    "  * ลองไปดูการใช้ and และ not ต่อเอาเอง\n",
    "* การใช้ for ... in ... เพื่อวนลูปทำงาน\n",
    "* การสร้างฟังก์ชัน การคืนค่าจากฟังก์ชัน และการเอาฟังก์ชันไปใช้ต่อ\n"
   ]
  }
 ],
 "metadata": {
  "colab": {
   "default_view": {},
   "name": "[Py101] Good Phone Numbers",
   "provenance": [],
   "version": "0.3.2",
   "views": {}
  },
  "kernelspec": {
   "display_name": "Python 3",
   "language": "python",
   "name": "python3"
  },
  "language_info": {
   "codemirror_mode": {
    "name": "ipython",
    "version": 3
   },
   "file_extension": ".py",
   "mimetype": "text/x-python",
   "name": "python",
   "nbconvert_exporter": "python",
   "pygments_lexer": "ipython3",
   "version": "3.6.5"
  }
 },
 "nbformat": 4,
 "nbformat_minor": 1
}
